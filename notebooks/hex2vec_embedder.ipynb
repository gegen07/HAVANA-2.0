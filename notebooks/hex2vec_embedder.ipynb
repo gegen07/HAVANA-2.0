{
 "cells": [
  {
   "cell_type": "code",
   "execution_count": 1,
   "metadata": {},
   "outputs": [
    {
     "name": "stderr",
     "output_type": "stream",
     "text": [
      "/home/victor/Documentos/HAVANA-2.0/.venv/lib/python3.10/site-packages/tqdm/auto.py:21: TqdmWarning: IProgress not found. Please update jupyter and ipywidgets. See https://ipywidgets.readthedocs.io/en/stable/user_install.html\n",
      "  from .autonotebook import tqdm as notebook_tqdm\n"
     ]
    }
   ],
   "source": [
    "from srai.embedders import Hex2VecEmbedder\n",
    "from srai.joiners import IntersectionJoiner\n",
    "from srai.loaders import OSMOnlineLoader\n",
    "from srai.neighbourhoods import H3Neighbourhood\n",
    "from srai.regionalizers import H3Regionalizer, geocode_to_region_gdf\n",
    "# from srai.plotting import plot_regions, plot_numeric_data\n",
    "from pytorch_lightning import seed_everything"
   ]
  },
  {
   "cell_type": "code",
   "execution_count": 2,
   "metadata": {},
   "outputs": [
    {
     "name": "stderr",
     "output_type": "stream",
     "text": [
      "Seed set to 71\n"
     ]
    },
    {
     "data": {
      "text/plain": [
       "71"
      ]
     },
     "execution_count": 2,
     "metadata": {},
     "output_type": "execute_result"
    }
   ],
   "source": [
    "SEED = 71\n",
    "seed_everything(SEED)"
   ]
  },
  {
   "attachments": {},
   "cell_type": "markdown",
   "metadata": {},
   "source": [
    "### Load data from OSM"
   ]
  },
  {
   "attachments": {},
   "cell_type": "markdown",
   "metadata": {},
   "source": [
    "First use geocoding to get the area"
   ]
  },
  {
   "cell_type": "code",
   "execution_count": 3,
   "metadata": {},
   "outputs": [],
   "source": [
    "area_gdf = geocode_to_region_gdf(\"Wrocław, Poland\")\n",
    "# plot_regions(area_gdf, tiles_style=\"CartoDB positron\")"
   ]
  },
  {
   "attachments": {},
   "cell_type": "markdown",
   "metadata": {},
   "source": [
    "Next, download the data for the selected region and the specified tags. We're using `OSMOnlineLoader` here, as it's faster for low numbers of tags. In a real life scenario with more tags, you would likely want to use the `OSMPbfLoader`."
   ]
  },
  {
   "cell_type": "code",
   "execution_count": 4,
   "metadata": {},
   "outputs": [
    {
     "name": "stderr",
     "output_type": "stream",
     "text": [
      "Downloading leisure: park      :   0%|          | 0/7 [00:00<?, ?it/s]"
     ]
    },
    {
     "name": "stderr",
     "output_type": "stream",
     "text": [
      "Downloading sport: soccer      : 100%|██████████| 7/7 [00:50<00:00,  7.16s/it]\n"
     ]
    }
   ],
   "source": [
    "tags = {\n",
    "    \"leisure\": \"park\",\n",
    "    \"landuse\": \"forest\",\n",
    "    \"amenity\": [\"bar\", \"restaurant\", \"cafe\"],\n",
    "    \"water\": \"river\",\n",
    "    \"sport\": \"soccer\",\n",
    "}\n",
    "\n",
    "# {\n",
    "#     \"sport\" :  [\n",
    "#         \"shooting\", \n",
    "#         \"cycling\", \n",
    "#         \"boxing\", \n",
    "#         \"horse\", \n",
    "#         \"table\", \n",
    "#         \"pelota\", \n",
    "#         \"athletics\", \n",
    "#         \"yoga\", \n",
    "#         \"gymnastics\", \n",
    "#         \"soccer\", \n",
    "#         \"boules\", \n",
    "#         \"surfing\", \n",
    "#         \"crossfit\", \n",
    "#         \"swimming\", \n",
    "#         \"basketball\", \n",
    "#         \"motocross\", \n",
    "#         \"judo\", \n",
    "#         \"climbing\", \n",
    "#         \"rowing\", \n",
    "#         \"canoe\", \n",
    "#         \"running\", \n",
    "#         \"volleyball\", \n",
    "#         \"multi\", \n",
    "#         \"badminton\", \n",
    "#         \"equestrian\", \n",
    "#         \"motor\", \n",
    "#         \"bmx\", \n",
    "#         \"fitness\", \n",
    "#         \"tennis\", \n",
    "#         \"skateboard\", \n",
    "#         \"karate\", \n",
    "#         \"beachvolleybal\",\n",
    "#     ],\n",
    "#     \"amenity\" :  [\n",
    "#         \"cinema\", \n",
    "#         \"studio\", \n",
    "#         \"pub\", \n",
    "#         \"college\", \n",
    "#         \"planetarium\", \n",
    "#         \"language\", \n",
    "#         \"bbq\", \n",
    "#         \"nightclub\", \n",
    "#         \"arts\", \n",
    "#         \"music\", \n",
    "#         \"social\", \n",
    "#         \"theatre\", \n",
    "#         \"cafe\", \n",
    "#         \"food\", \n",
    "#         \"library\", \n",
    "#         \"casino\", \n",
    "#         \"kindergarten\", \n",
    "#         \"community\", \n",
    "#         \"fountain\", \n",
    "#         \"brothel\", \n",
    "#         \"restaurant\", \n",
    "#         \"university\", \n",
    "#         \"fast\", \n",
    "#         \"bar\", \n",
    "#         \"school\", \n",
    "#         \"ice\"\n",
    "#     ],\n",
    "#     \"office\" :  [\n",
    "#         \"financial\", \n",
    "#         \"water\", \n",
    "#         \"company\", \n",
    "#         \"foundation\", \n",
    "#         \"lawyer\", \n",
    "#         \"quango\", \n",
    "#         \"government\", \n",
    "#         \"estate\", \n",
    "#         \"architect\", \n",
    "#         \"coworking\", \n",
    "#         \"accountant\", \n",
    "#         \"notary\", \n",
    "#         \"diplomatic\", \n",
    "#         \"telecommunication\", \n",
    "#         \"newspaper\", \n",
    "#         \"research\", \n",
    "#         \"ngo\", \n",
    "#         \"engineer\", \n",
    "#         \"advertising\", \n",
    "#         \"logistics\", \n",
    "#         \"it\", \n",
    "#         \"insurance\", \n",
    "#         \"yes\", \n",
    "#         \"association\",\n",
    "#     ],\n",
    "#     \"shop\" :  [\n",
    "#         \"kiosk\", \n",
    "#         \"deli\", \n",
    "#         \"carpet\", \n",
    "#         \"lottery\", \n",
    "#         \"craft\", \n",
    "#         \"butcher\", \n",
    "#         \"military\", \n",
    "#         \"electronics\", \n",
    "#         \"fashion\", \n",
    "#         \"water\", \n",
    "#         \"hifi\", \n",
    "#         \"tailor\", \n",
    "#         \"shoes\", \n",
    "#         \"religion\", \n",
    "#         \"trade\", \n",
    "#         \"locksmith\", \n",
    "#         \"hardware\", \n",
    "#         \"farm\", \n",
    "#         \"convenience\", \n",
    "#         \"ticket\", \n",
    "#         \"vacant\", \n",
    "#         \"appliance\", \n",
    "#         \"frame\", \n",
    "#         \"chocolate\", \n",
    "#         \"lighting\", \n",
    "#         \"money\", \n",
    "#         \"copyshop\", \n",
    "#         \"confectionery\", \n",
    "#         \"jewelry\", \n",
    "#         \"dry\", \n",
    "#         \"garden\", \n",
    "#         \"car\", \n",
    "#         \"electrical\", \n",
    "#         \"ice\", \n",
    "#         \"anime\", \n",
    "#         \"nutrition\", \n",
    "#         \"houseware\", \n",
    "#         \"bag\", \n",
    "#         \"music\", \n",
    "#         \"books\", \n",
    "#         \"seafood\", \n",
    "#         \"agrarian\", \n",
    "#         \"chemist\", \n",
    "#         \"doityourself\", \n",
    "#         \"motorcycle\", \n",
    "#         \"perfumery\", \n",
    "#         \"fabric\", \n",
    "#         \"funeral\", \n",
    "#         \"baby\", \n",
    "#         \"pawnbroker\", \n",
    "#         \"stationery\", \n",
    "#         \"furniture\", \n",
    "#         \"radiotechnics\", \n",
    "#         \"pastry\", \n",
    "#         \"travel\", \n",
    "#         \"bicycle\", \n",
    "#         \"hearing\", \n",
    "#         \"tiles\", \n",
    "#         \"interior\", \n",
    "#         \"supermarket\", \n",
    "#         \"mall\", \n",
    "#         \"health\", \n",
    "#         \"pet\", \n",
    "#         \"second\", \n",
    "#         \"musical\", \n",
    "#         \"art\", \n",
    "#         \"tyres\", \n",
    "#         \"alcohol\", \n",
    "#         \"optician\", \n",
    "#         \"gas\", \n",
    "#         \"erotic\", \n",
    "#         \"cosmetics\", \n",
    "#         \"tobacco\", \n",
    "#         \"fishing\", \n",
    "#         \"medical\", \n",
    "#         \"beverages\", \n",
    "#         \"kitchen\", \n",
    "#         \"bed\", \n",
    "#         \"mobile\", \n",
    "#         \"coffee\", \n",
    "#         \"newsagent\", \n",
    "#         \"general\", \n",
    "#         \"photo\", \n",
    "#         \"florist\", \n",
    "#         \"sewing\", \n",
    "#         \"laundry\", \n",
    "#         \"outdoor\", \n",
    "#         \"department\", \n",
    "#         \"wholesale\", \n",
    "#         \"bakery\", \n",
    "#         \"variety\", \n",
    "#         \"glaziery\", \n",
    "#         \"toys\", \n",
    "#         \"gift\", \n",
    "#         \"sports\", \n",
    "#         \"beauty\", \n",
    "#         \"video\", \n",
    "#         \"herbalist\", \n",
    "#         \"party\", \n",
    "#         \"clothes\", \n",
    "#         \"hairdresser\", \n",
    "#         \"tea\", \n",
    "#         \"computer\", \n",
    "#         \"paint\", \n",
    "#         \"storage\"\n",
    "#     ],\n",
    "#     \"leisure\" :  [\n",
    "#         \"fishing\",\n",
    "#         \"track\",\n",
    "#         \"water\",\n",
    "#         \"playground\",\n",
    "#         \"marina\",\n",
    "#         \"horse\",\n",
    "#         \"picnic\",\n",
    "#         \"adult\",\n",
    "#         \"stadium\",\n",
    "#         \"dog\",\n",
    "#         \"pitch\",\n",
    "#         \"fitness\",\n",
    "#         \"golf\",\n",
    "#         \"park\",\n",
    "#         \"summer\",\n",
    "#         \"garden\",\n",
    "#         \"dance\",\n",
    "#     ],\n",
    "#     \"aeroway\" :  [\"aerodrome\" \"helipad\"],\n",
    "#     \"tourism\" :  [\n",
    "#         \"artwork\",\n",
    "#         \"picnic\",\n",
    "#         \"motel\",\n",
    "#         \"hotel\",\n",
    "#         \"museum\",\n",
    "#         \"zoo\",\n",
    "#         \"attraction\",\n",
    "#         \"information\",\n",
    "#         \"viewpoint\",\n",
    "#         \"guest\",\n",
    "#         \"chalet\", \n",
    "#         \"camp\", \n",
    "#         \"hostel\",\n",
    "#         \"apartment\", \n",
    "#         \"gallery\", \n",
    "#         \"theme\",\n",
    "#     ] \n",
    "# }\n",
    "\n",
    "loader = OSMOnlineLoader()\n",
    "\n",
    "features_gdf = loader.load(area_gdf, tags)\n",
    "\n",
    "# folium_map = plot_regions(area_gdf, colormap=[rgba(0,0,0,0)], tiles_style=CartoDB positron)\n",
    "# features_gdf.explore(m=folium_map)"
   ]
  },
  {
   "attachments": {},
   "cell_type": "markdown",
   "metadata": {},
   "source": [
    "## Prepare the data for embedding"
   ]
  },
  {
   "attachments": {},
   "cell_type": "markdown",
   "metadata": {},
   "source": [
    "After downloading the data, we need to prepare it for embedding. Namely - we need to regionalize the selected area, and join the features with regions."
   ]
  },
  {
   "cell_type": "code",
   "execution_count": 5,
   "metadata": {},
   "outputs": [],
   "source": [
    "regionalizer = H3Regionalizer(resolution=9)\n",
    "regions_gdf = regionalizer.transform(area_gdf)\n",
    "# plot_regions(regions_gdf, tiles_style=\"CartoDB positron\")"
   ]
  },
  {
   "cell_type": "code",
   "execution_count": 6,
   "metadata": {},
   "outputs": [],
   "source": [
    "joiner = IntersectionJoiner()\n",
    "joint_gdf = joiner.transform(regions_gdf, features_gdf)\n",
    "# joint_gdf"
   ]
  },
  {
   "attachments": {},
   "cell_type": "markdown",
   "metadata": {},
   "source": [
    "## Embedding"
   ]
  },
  {
   "attachments": {},
   "cell_type": "markdown",
   "metadata": {},
   "source": [
    "After preparing the data we can proceed with generating embeddings for the regions."
   ]
  },
  {
   "cell_type": "code",
   "execution_count": 7,
   "metadata": {},
   "outputs": [
    {
     "name": "stderr",
     "output_type": "stream",
     "text": [
      "100%|██████████| 3168/3168 [00:00<00:00, 10135.46it/s]\n",
      "GPU available: False, used: False\n",
      "TPU available: False, using: 0 TPU cores\n",
      "IPU available: False, using: 0 IPUs\n",
      "HPU available: False, using: 0 HPUs\n",
      "Missing logger folder: /home/victor/Documentos/HAVANA-2.0/notebooks/lightning_logs\n",
      "\n",
      "  | Name    | Type       | Params\n",
      "---------------------------------------\n",
      "0 | encoder | Sequential | 280   \n",
      "---------------------------------------\n",
      "280       Trainable params\n",
      "0         Non-trainable params\n",
      "280       Total params\n",
      "0.001     Total estimated model params size (MB)\n"
     ]
    },
    {
     "name": "stdout",
     "output_type": "stream",
     "text": [
      "Epoch 4: 100%|██████████| 185/185 [00:04<00:00, 43.29it/s, v_num=0]"
     ]
    },
    {
     "name": "stderr",
     "output_type": "stream",
     "text": [
      "`Trainer.fit` stopped: `max_epochs=5` reached.\n"
     ]
    },
    {
     "name": "stdout",
     "output_type": "stream",
     "text": [
      "Epoch 4: 100%|██████████| 185/185 [00:04<00:00, 43.15it/s, v_num=0]\n"
     ]
    }
   ],
   "source": [
    "import warnings\n",
    "\n",
    "neighbourhood = H3Neighbourhood(regions_gdf)\n",
    "embedder = Hex2VecEmbedder([15, 10])\n",
    "\n",
    "with warnings.catch_warnings():\n",
    "    warnings.simplefilter(\"ignore\")\n",
    "    embeddings = embedder.fit_transform(\n",
    "        regions_gdf,\n",
    "        features_gdf,\n",
    "        joint_gdf,\n",
    "        neighbourhood,\n",
    "        trainer_kwargs={\"max_epochs\": 5, \"accelerator\": \"cpu\"},\n",
    "        batch_size=100,\n",
    "    )\n",
    "# embeddings"
   ]
  },
  {
   "attachments": {},
   "cell_type": "markdown",
   "metadata": {},
   "source": [
    "### Visualizing the embeddings' similarity"
   ]
  },
  {
   "cell_type": "code",
   "execution_count": null,
   "metadata": {},
   "outputs": [],
   "source": [
    "# from sklearn.cluster import KMeans\n",
    "\n",
    "# clusterizer = KMeans(n_clusters=5, random_state=SEED)\n",
    "# clusterizer.fit(embeddings)\n",
    "\n",
    "# embeddings[\"cluster\"] = clusterizer.labels_\n",
    "# embeddings"
   ]
  },
  {
   "cell_type": "code",
   "execution_count": null,
   "metadata": {},
   "outputs": [],
   "source": [
    "# plot_numeric_data(regions_gdf, \"cluster\", embeddings)"
   ]
  }
 ],
 "metadata": {
  "kernelspec": {
   "display_name": ".venv",
   "language": "python",
   "name": "python3"
  },
  "language_info": {
   "codemirror_mode": {
    "name": "ipython",
    "version": 3
   },
   "file_extension": ".py",
   "mimetype": "text/x-python",
   "name": "python",
   "nbconvert_exporter": "python",
   "pygments_lexer": "ipython3",
   "version": "3.10.14"
  }
 },
 "nbformat": 4,
 "nbformat_minor": 2
}
