{
 "cells": [
  {
   "cell_type": "code",
   "execution_count": 1,
   "id": "b44b33a3-3bef-4e73-b2a3-969d9354152e",
   "metadata": {},
   "outputs": [
    {
     "name": "stderr",
     "output_type": "stream",
     "text": [
      "/home/paulo/.pyenv/versions/3.8.10/lib/python3.8/site-packages/pandas/compat/__init__.py:124: UserWarning: Could not import the lzma module. Your installed Python is incomplete. Attempting to use lzma compression will result in a RuntimeError.\n",
      "  warnings.warn(msg)\n"
     ]
    }
   ],
   "source": [
    "import pandas as pd\n",
    "import geopandas\n",
    "import numpy\n",
    "import json\n",
    "from collections import defaultdict\n",
    "import ast"
   ]
  },
  {
   "cell_type": "code",
   "execution_count": 2,
   "id": "62bfb334",
   "metadata": {},
   "outputs": [],
   "source": [
    "checkins = pd.read_csv(\"../basic_data/gowalla_checkins.csv\")\n",
    "places = pd.read_csv(\"../basic_data/places.csv\")\n",
    "with open(\"../basic_data/gowalla_category.json\") as f:\n",
    "    category = json.load(f)['spot_categories']\n"
   ]
  },
  {
   "cell_type": "code",
   "execution_count": 3,
   "id": "0c58f86c",
   "metadata": {},
   "outputs": [],
   "source": [
    "map_to_general_category = {}\n",
    "category_names = []"
   ]
  },
  {
   "cell_type": "code",
   "execution_count": 4,
   "id": "5555429e",
   "metadata": {},
   "outputs": [],
   "source": [
    "df_names = pd.DataFrame(columns=['name', 'categoryid'])\n",
    "\n",
    "def map_categories(data, category_map, name):\n",
    "    for category in data:\n",
    "        subcategory = category['name']\n",
    "        category_map[subcategory] = name\n",
    "        if 'spot_categories' in category:\n",
    "            map_categories(category['spot_categories'], category_map, name)\n",
    "\n",
    "def get_general_category(row):\n",
    "    try:\n",
    "        c_name = map_to_general_category[eval(row)[0]['name']]\n",
    "        id = df_names.query(f'name == \"{c_name}\"')['categoryid']\n",
    "        return int(id)\n",
    "    except Exception as e:\n",
    "        return -1\n",
    "    \n",
    "for i in range(len(category)):\n",
    "    name = category[i]['name']\n",
    "    df_names = df_names.append({'name': name, 'categoryid': i}, ignore_index=True)\n",
    "    map_categories(category[i]['spot_categories'], map_to_general_category, name)\n"
   ]
  },
  {
   "cell_type": "code",
   "execution_count": 5,
   "id": "2ed85ddb",
   "metadata": {},
   "outputs": [],
   "source": [
    "df_names.to_csv('../general/category_names.csv', index=False)"
   ]
  },
  {
   "cell_type": "code",
   "execution_count": 6,
   "id": "b305de3a",
   "metadata": {},
   "outputs": [],
   "source": [
    "df = pd.merge(checkins, places, left_on=\"placeid\", right_on=\"id\")"
   ]
  },
  {
   "cell_type": "code",
   "execution_count": 7,
   "id": "d2908654",
   "metadata": {},
   "outputs": [],
   "source": [
    "df['categoryid'] = df[\"spot_categories\"].apply(lambda x: get_general_category(x))"
   ]
  },
  {
   "cell_type": "code",
   "execution_count": 9,
   "id": "b2043cde",
   "metadata": {},
   "outputs": [],
   "source": [
    "df_cpy = df.copy()"
   ]
  },
  {
   "cell_type": "code",
   "execution_count": 10,
   "id": "b36d7e82",
   "metadata": {},
   "outputs": [],
   "source": [
    "df[df['categoryid'] == -1].to_csv('../general/gowalla_checkins_no_category.csv', index=False)"
   ]
  },
  {
   "cell_type": "code",
   "execution_count": 12,
   "id": "1474fa29",
   "metadata": {},
   "outputs": [
    {
     "data": {
      "text/plain": [
       "Starbucks                           18431\n",
       "Plaza / Square                      10548\n",
       "Other - College & Education          9296\n",
       "Other - Travel & Lodging             7303\n",
       "Apple Store                          7208\n",
       "                                    ...  \n",
       "Music > Showcase > Dance                1\n",
       "Interactive > Robotics > Solo           1\n",
       "Film > Panel > 3D                       1\n",
       "Interactive > Education > Panel         1\n",
       "Music > Panel > History of Music        1\n",
       "Name: spot_categories, Length: 298, dtype: int64"
      ]
     },
     "execution_count": 12,
     "metadata": {},
     "output_type": "execute_result"
    }
   ],
   "source": [
    "df[df['categoryid'] == -1]['spot_categories'].apply(lambda x: eval(x)[0]['name']).value_counts()"
   ]
  },
  {
   "cell_type": "code",
   "execution_count": null,
   "id": "ef9eccbf",
   "metadata": {},
   "outputs": [],
   "source": [
    "df = df[df['categoryid'] != -1]\n",
    "df.to_csv('../general/gowalla_checkins_with_category.csv', index=False)"
   ]
  },
  {
   "cell_type": "code",
   "execution_count": 13,
   "id": "40bb5141",
   "metadata": {},
   "outputs": [
    {
     "data": {
      "text/plain": [
       " 2    231005\n",
       " 5    219269\n",
       "-1    166896\n",
       " 0    161154\n",
       " 6     97920\n",
       " 1     61486\n",
       " 4     56707\n",
       " 3     48383\n",
       "Name: categoryid, dtype: int64"
      ]
     },
     "execution_count": 13,
     "metadata": {},
     "output_type": "execute_result"
    }
   ],
   "source": [
    "df['categoryid'].value_counts()"
   ]
  },
  {
   "cell_type": "code",
   "execution_count": 14,
   "id": "f4abf851-cdd4-420c-8b6d-114bc7a8b027",
   "metadata": {},
   "outputs": [],
   "source": [
    "geo_df = geopandas.GeoDataFrame(\n",
    "    df, geometry=geopandas.points_from_xy(df.lng, df.lat), crs=\"EPSG:4326\"\n",
    ")"
   ]
  },
  {
   "cell_type": "code",
   "execution_count": 15,
   "id": "74595c7c-86b6-45cc-bb56-287e77b173a6",
   "metadata": {},
   "outputs": [],
   "source": [
    "countries_gdf = geopandas.read_file(\"../basic_data/tl_2017_us_state/tl_2017_us_state.shp\")"
   ]
  },
  {
   "cell_type": "code",
   "execution_count": 16,
   "id": "0f32b470-392b-4e63-bb38-465112b04987",
   "metadata": {},
   "outputs": [],
   "source": [
    "countries_gdf = countries_gdf[[\"NAME\", \"geometry\"]]"
   ]
  },
  {
   "cell_type": "code",
   "execution_count": 17,
   "id": "97107d65-cb86-45e5-9f3a-9f9faa385fcc",
   "metadata": {},
   "outputs": [
    {
     "data": {
      "text/plain": [
       "<AxesSubplot:>"
      ]
     },
     "execution_count": 17,
     "metadata": {},
     "output_type": "execute_result"
    },
    {
     "data": {
      "image/png": "[encoded data removed]",
      "text/plain": [
       "<Figure size 1440x720 with 1 Axes>"
      ]
     },
     "metadata": {
      "needs_background": "light"
     },
     "output_type": "display_data"
    }
   ],
   "source": [
    "countries_gdf.plot(figsize=(20, 10))"
   ]
  },
  {
   "cell_type": "code",
   "execution_count": 18,
   "id": "1c81888c-d46f-4e36-b45d-71fd0eeb4a88",
   "metadata": {},
   "outputs": [],
   "source": [
    "countries_gdf = countries_gdf.to_crs(\"EPSG:4326\")"
   ]
  },
  {
   "cell_type": "code",
   "execution_count": 19,
   "id": "d1b971f6-ee0d-4a21-8bb5-e84fecf88007",
   "metadata": {},
   "outputs": [],
   "source": [
    "geo_df = geo_df.sjoin(countries_gdf, how=\"left\", predicate=\"intersects\")"
   ]
  },
  {
   "cell_type": "code",
   "execution_count": 21,
   "id": "8c878401-9328-4512-affb-b0b6f6b469bc",
   "metadata": {},
   "outputs": [
    {
     "data": {
      "text/plain": [
       "array(['Minnesota', 'Illinois', 'Nebraska', 'Ohio', 'Wisconsin',\n",
       "       'Georgia', 'Iowa', 'Indiana', 'Missouri', 'Kansas', 'Nevada',\n",
       "       'Tennessee', 'Alabama', 'Mississippi', 'California', 'New York',\n",
       "       'Florida', nan, 'Texas', 'Virginia', 'North Carolina', 'Louisiana',\n",
       "       'Washington', 'District of Columbia', 'Maryland', 'Pennsylvania',\n",
       "       'Kentucky', 'Connecticut', 'Massachusetts', 'Delaware',\n",
       "       'New Jersey', 'Guam', 'Hawaii', 'Colorado', 'Rhode Island', 'Utah',\n",
       "       'Oregon', 'Arizona', 'Michigan', 'Oklahoma', 'Arkansas',\n",
       "       'West Virginia', 'South Carolina', 'New Mexico', 'North Dakota',\n",
       "       'New Hampshire', 'Maine', 'South Dakota', 'Montana', 'Wyoming',\n",
       "       'Idaho', 'Vermont', 'Puerto Rico', 'Alaska',\n",
       "       'United States Virgin Islands'], dtype=object)"
      ]
     },
     "execution_count": 21,
     "metadata": {},
     "output_type": "execute_result"
    }
   ],
   "source": [
    "geo_df.NAME.unique()"
   ]
  },
  {
   "cell_type": "code",
   "execution_count": 23,
   "id": "a8f20558-2072-4837-b235-33d51bcea2ba",
   "metadata": {},
   "outputs": [
    {
     "data": {
      "text/html": [
       "<div>\n",
       "<style scoped>\n",
       "    .dataframe tbody tr th:only-of-type {\n",
       "        vertical-align: middle;\n",
       "    }\n",
       "\n",
       "    .dataframe tbody tr th {\n",
       "        vertical-align: top;\n",
       "    }\n",
       "\n",
       "    .dataframe thead th {\n",
       "        text-align: right;\n",
       "    }\n",
       "</style>\n",
       "<table border=\"1\" class=\"dataframe\">\n",
       "  <thead>\n",
       "    <tr style=\"text-align: right;\">\n",
       "      <th></th>\n",
       "      <th>userid</th>\n",
       "      <th>placeid</th>\n",
       "      <th>datetime</th>\n",
       "      <th>id</th>\n",
       "      <th>created_at</th>\n",
       "      <th>lng</th>\n",
       "      <th>lat</th>\n",
       "      <th>photos_count</th>\n",
       "      <th>checkins_count</th>\n",
       "      <th>users_count</th>\n",
       "      <th>radius_meters</th>\n",
       "      <th>highlights_count</th>\n",
       "      <th>items_count</th>\n",
       "      <th>max_items_count</th>\n",
       "      <th>spot_categories</th>\n",
       "      <th>categoryid</th>\n",
       "      <th>geometry</th>\n",
       "      <th>index_right</th>\n",
       "      <th>NAME</th>\n",
       "    </tr>\n",
       "  </thead>\n",
       "  <tbody>\n",
       "    <tr>\n",
       "      <th>0</th>\n",
       "      <td>1338</td>\n",
       "      <td>482954</td>\n",
       "      <td>2011-06-23T02:24:22Z</td>\n",
       "      <td>482954</td>\n",
       "      <td>2010-01-31T03:43:41Z</td>\n",
       "      <td>-93.177506</td>\n",
       "      <td>44.934198</td>\n",
       "      <td>4</td>\n",
       "      <td>50</td>\n",
       "      <td>33</td>\n",
       "      <td>50</td>\n",
       "      <td>0</td>\n",
       "      <td>5</td>\n",
       "      <td>10</td>\n",
       "      <td>[{'url': '/categories/241', 'name': 'Bar'}]</td>\n",
       "      <td>3</td>\n",
       "      <td>POINT (-93.17751 44.93420)</td>\n",
       "      <td>3.0</td>\n",
       "      <td>Minnesota</td>\n",
       "    </tr>\n",
       "    <tr>\n",
       "      <th>1</th>\n",
       "      <td>116691</td>\n",
       "      <td>482954</td>\n",
       "      <td>2011-06-05T17:42:29Z</td>\n",
       "      <td>482954</td>\n",
       "      <td>2010-01-31T03:43:41Z</td>\n",
       "      <td>-93.177506</td>\n",
       "      <td>44.934198</td>\n",
       "      <td>4</td>\n",
       "      <td>50</td>\n",
       "      <td>33</td>\n",
       "      <td>50</td>\n",
       "      <td>0</td>\n",
       "      <td>5</td>\n",
       "      <td>10</td>\n",
       "      <td>[{'url': '/categories/241', 'name': 'Bar'}]</td>\n",
       "      <td>3</td>\n",
       "      <td>POINT (-93.17751 44.93420)</td>\n",
       "      <td>3.0</td>\n",
       "      <td>Minnesota</td>\n",
       "    </tr>\n",
       "    <tr>\n",
       "      <th>2</th>\n",
       "      <td>59161</td>\n",
       "      <td>482954</td>\n",
       "      <td>2011-01-14T01:39:11Z</td>\n",
       "      <td>482954</td>\n",
       "      <td>2010-01-31T03:43:41Z</td>\n",
       "      <td>-93.177506</td>\n",
       "      <td>44.934198</td>\n",
       "      <td>4</td>\n",
       "      <td>50</td>\n",
       "      <td>33</td>\n",
       "      <td>50</td>\n",
       "      <td>0</td>\n",
       "      <td>5</td>\n",
       "      <td>10</td>\n",
       "      <td>[{'url': '/categories/241', 'name': 'Bar'}]</td>\n",
       "      <td>3</td>\n",
       "      <td>POINT (-93.17751 44.93420)</td>\n",
       "      <td>3.0</td>\n",
       "      <td>Minnesota</td>\n",
       "    </tr>\n",
       "    <tr>\n",
       "      <th>3</th>\n",
       "      <td>59161</td>\n",
       "      <td>482954</td>\n",
       "      <td>2010-07-23T01:32:22Z</td>\n",
       "      <td>482954</td>\n",
       "      <td>2010-01-31T03:43:41Z</td>\n",
       "      <td>-93.177506</td>\n",
       "      <td>44.934198</td>\n",
       "      <td>4</td>\n",
       "      <td>50</td>\n",
       "      <td>33</td>\n",
       "      <td>50</td>\n",
       "      <td>0</td>\n",
       "      <td>5</td>\n",
       "      <td>10</td>\n",
       "      <td>[{'url': '/categories/241', 'name': 'Bar'}]</td>\n",
       "      <td>3</td>\n",
       "      <td>POINT (-93.17751 44.93420)</td>\n",
       "      <td>3.0</td>\n",
       "      <td>Minnesota</td>\n",
       "    </tr>\n",
       "    <tr>\n",
       "      <th>4</th>\n",
       "      <td>149777</td>\n",
       "      <td>482954</td>\n",
       "      <td>2010-03-18T01:40:40Z</td>\n",
       "      <td>482954</td>\n",
       "      <td>2010-01-31T03:43:41Z</td>\n",
       "      <td>-93.177506</td>\n",
       "      <td>44.934198</td>\n",
       "      <td>4</td>\n",
       "      <td>50</td>\n",
       "      <td>33</td>\n",
       "      <td>50</td>\n",
       "      <td>0</td>\n",
       "      <td>5</td>\n",
       "      <td>10</td>\n",
       "      <td>[{'url': '/categories/241', 'name': 'Bar'}]</td>\n",
       "      <td>3</td>\n",
       "      <td>POINT (-93.17751 44.93420)</td>\n",
       "      <td>3.0</td>\n",
       "      <td>Minnesota</td>\n",
       "    </tr>\n",
       "  </tbody>\n",
       "</table>\n",
       "</div>"
      ],
      "text/plain": [
       "   userid  placeid              datetime      id            created_at  \\\n",
       "0    1338   482954  2011-06-23T02:24:22Z  482954  2010-01-31T03:43:41Z   \n",
       "1  116691   482954  2011-06-05T17:42:29Z  482954  2010-01-31T03:43:41Z   \n",
       "2   59161   482954  2011-01-14T01:39:11Z  482954  2010-01-31T03:43:41Z   \n",
       "3   59161   482954  2010-07-23T01:32:22Z  482954  2010-01-31T03:43:41Z   \n",
       "4  149777   482954  2010-03-18T01:40:40Z  482954  2010-01-31T03:43:41Z   \n",
       "\n",
       "         lng        lat  photos_count  checkins_count  users_count  \\\n",
       "0 -93.177506  44.934198             4              50           33   \n",
       "1 -93.177506  44.934198             4              50           33   \n",
       "2 -93.177506  44.934198             4              50           33   \n",
       "3 -93.177506  44.934198             4              50           33   \n",
       "4 -93.177506  44.934198             4              50           33   \n",
       "\n",
       "   radius_meters  highlights_count  items_count  max_items_count  \\\n",
       "0             50                 0            5               10   \n",
       "1             50                 0            5               10   \n",
       "2             50                 0            5               10   \n",
       "3             50                 0            5               10   \n",
       "4             50                 0            5               10   \n",
       "\n",
       "                               spot_categories  categoryid  \\\n",
       "0  [{'url': '/categories/241', 'name': 'Bar'}]           3   \n",
       "1  [{'url': '/categories/241', 'name': 'Bar'}]           3   \n",
       "2  [{'url': '/categories/241', 'name': 'Bar'}]           3   \n",
       "3  [{'url': '/categories/241', 'name': 'Bar'}]           3   \n",
       "4  [{'url': '/categories/241', 'name': 'Bar'}]           3   \n",
       "\n",
       "                     geometry  index_right       NAME  \n",
       "0  POINT (-93.17751 44.93420)          3.0  Minnesota  \n",
       "1  POINT (-93.17751 44.93420)          3.0  Minnesota  \n",
       "2  POINT (-93.17751 44.93420)          3.0  Minnesota  \n",
       "3  POINT (-93.17751 44.93420)          3.0  Minnesota  \n",
       "4  POINT (-93.17751 44.93420)          3.0  Minnesota  "
      ]
     },
     "execution_count": 23,
     "metadata": {},
     "output_type": "execute_result"
    }
   ],
   "source": [
    "geo_df[\"placeid\"] =  geo_df[\"id\"]\n",
    "geo_df.head()"
   ]
  },
  {
   "cell_type": "code",
   "execution_count": 24,
   "id": "a9fa52bf",
   "metadata": {},
   "outputs": [],
   "source": [
    "geo_df.to_csv(\"../general/gowalla_geo_checkins.csv\", index=False)"
   ]
  },
  {
   "cell_type": "code",
   "execution_count": 32,
   "id": "2757337d-269d-4910-b2e6-7a5abadc6205",
   "metadata": {},
   "outputs": [],
   "source": [
    "for x in geo_df.NAME.unique():\n",
    "    state =  geo_df[geo_df[\"NAME\"]==x][[\"userid\",  \"placeid\", \"datetime\", \"categoryid\", \"lat\", \"lng\"]]\n",
    "    state.to_csv(f\"../checkins_local/checkins_local_{x}.csv\", index=False)"
   ]
  }
 ],
 "metadata": {
  "kernelspec": {
   "display_name": "Python 3 (ipykernel)",
   "language": "python",
   "name": "python3"
  },
  "language_info": {
   "codemirror_mode": {
    "name": "ipython",
    "version": 3
   },
   "file_extension": ".py",
   "mimetype": "text/x-python",
   "name": "python",
   "nbconvert_exporter": "python",
   "pygments_lexer": "ipython3",
   "version": "3.8.10"
  }
 },
 "nbformat": 4,
 "nbformat_minor": 5
}
